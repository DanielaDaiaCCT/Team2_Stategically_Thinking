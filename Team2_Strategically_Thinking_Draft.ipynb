{
  "nbformat": 4,
  "nbformat_minor": 0,
  "metadata": {
    "colab": {
      "provenance": []
    },
    "kernelspec": {
      "name": "python3",
      "display_name": "Python 3"
    },
    "language_info": {
      "name": "python"
    }
  },
  "cells": [
    {
      "cell_type": "markdown",
      "source": [
        "# review \n",
        "* Data Understanding\n",
        " * Characterisation of the data set\n",
        " * Descriptive Statistics\n",
        " * Outliers\n",
        "* Handling with missing values\n",
        " * Imputing Missing Values\n",
        " \n",
        "\n",
        "\n",
        "* Feature Engineering \n",
        " * Encoding\n",
        " * Scaling \n",
        " \n",
        "* Trainig Data\n",
        "\n",
        "\n",
        "\n",
        "* Apply ML model \n",
        "\n",
        "\n",
        "\n",
        "* Cross Validation\n",
        "\n",
        "\n",
        "\n",
        "* Result \n",
        "\n"
      ],
      "metadata": {
        "id": "X5TCaSW486qS"
      }
    },
    {
      "cell_type": "markdown",
      "source": [
        "# Data Understanding\n",
        "\n",
        "## EDA"
      ],
      "metadata": {
        "id": "xkf_APGV9Hf3"
      }
    },
    {
      "cell_type": "code",
      "source": [
        "import pandas as pd \n",
        "import numpy as np\n",
        "import matplotlib.pyplot as plt\n",
        "import seaborn as sns\n",
        "import missingno as msno\n",
        "import re ##et you check if a particular string matches a given regular expression\n"
      ],
      "metadata": {
        "id": "5DO75Z22brKi"
      },
      "execution_count": null,
      "outputs": []
    },
    {
      "cell_type": "code",
      "source": [
        "df_reviews= pd.read_csv(\"/content/company_reviews.csv\")"
      ],
      "metadata": {
        "id": "KpJTAJJidKIa"
      },
      "execution_count": null,
      "outputs": []
    },
    {
      "cell_type": "code",
      "source": [
        "df_reviews.head()"
      ],
      "metadata": {
        "id": "97GxFVJJbGmU"
      },
      "execution_count": null,
      "outputs": []
    },
    {
      "cell_type": "code",
      "source": [
        "df_reviews.shape"
      ],
      "metadata": {
        "id": "-sd6uxkfdfnm"
      },
      "execution_count": null,
      "outputs": []
    },
    {
      "cell_type": "code",
      "source": [
        "df_reviews.info()"
      ],
      "metadata": {
        "id": "JBGOGp-ddkcM"
      },
      "execution_count": null,
      "outputs": []
    },
    {
      "cell_type": "markdown",
      "source": [
        "## Feature Engineering\n",
        "\n",
        "we need to get rid of all the irrelevant columns according to our bussinees understanding."
      ],
      "metadata": {
        "id": "3CrpmI83d76P"
      }
    },
    {
      "cell_type": "code",
      "source": [
        "# Dropping irrelevant columns\n",
        "df_reviews = df_reviews.drop([\"name\",\"description\",\"happiness\",\"ceo_count\",\"locations\",\"roles\",\"salary\",\"interview_experience\",\"interview_difficulty\",\"interview_duration\",\"interview_count\",\"headquarters\",\"website\"], axis=1)"
      ],
      "metadata": {
        "id": "OxjDHIgMc56f"
      },
      "execution_count": null,
      "outputs": []
    },
    {
      "cell_type": "code",
      "source": [
        "df_reviews.head()"
      ],
      "metadata": {
        "id": "iB4I306vdWb2"
      },
      "execution_count": null,
      "outputs": []
    },
    {
      "cell_type": "code",
      "source": [
        "ratings = df_reviews.ratings.tolist()\n",
        "rating_dict = []\n",
        "for i in range(len(ratings)):\n",
        "    rating_dict.append(eval(ratings[i]))\n",
        "    \n",
        "keys = ['Compensation/Benefits', 'Job Security/Advancement', 'Management', 'Culture', 'Work/Life Balance']\n",
        "\n",
        "for key in keys:\n",
        "    df_reviews[key] = [x.get(key, np.nan) for x in rating_dict]\n",
        "    df_reviews[key] = pd.to_numeric(df_reviews[key], errors='coerce')\n",
        " \n",
        "df_reviews = df_reviews.dropna(subset = ['Management', 'Compensation/Benefits','Job Security/Advancement','Culture','Work/Life Balance'])\n",
        "df_reviews = df_reviews.drop(['ratings'], axis=1)"
      ],
      "metadata": {
        "id": "fOVSv6ked38D"
      },
      "execution_count": null,
      "outputs": []
    },
    {
      "cell_type": "code",
      "source": [
        "df_reviews.head(10)"
      ],
      "metadata": {
        "id": "xJdlTdJnfEGw"
      },
      "execution_count": null,
      "outputs": []
    },
    {
      "cell_type": "code",
      "source": [
        "df_reviews[\"industry\"].value_counts()"
      ],
      "metadata": {
        "id": "ri4gdYgvfKIe"
      },
      "execution_count": null,
      "outputs": []
    },
    {
      "cell_type": "code",
      "source": [
        "df_reviews['industry'] = df_reviews['industry'].replace({ 'Health Care': 'Healthcare', 'Construction': 'Construction & Facilities Services',\n",
        "                                                  'Retail': 'Retail & Wholesale', 'Education and Schools': 'Education',\n",
        "                                                  'Industrial Manufacturing': 'Manufacturing', 'Auto': 'Automotive', \n",
        "                                                   'Transport and Freight': 'Transportation & Logistics', 'Organization': 'Nonprofit & NGO',\n",
        "                                                  'Pharmaceuticals': 'Pharmaceutical & Biotechnology', 'Human Resources and Staffing': 'Human Resources & Staffing',\n",
        "                                                  'Internet and Software': 'Information Technology', 'Agriculture': 'Agriculture and Extraction',\"Hotels & Travel Accommodation\":\"Restaurants, Travel and Leisure\",\n",
        "                                                  \"Management & Consulting\" : \"Consulting and Business Services\",\"Personal Consumer Services\": \"Consumer Goods and Services\",\"Legal\": \"Consulting and Business Services\",\n",
        "                                                  \"Information Technology\\nHealthcare\":\"Healthcare\",\"Restaurants, Travel and Leisure\\nRestaurants, Travel and Leisure\":\"Restaurants, Travel and Leisure\",\"Restaurants, Travel and Leisure\\nConsumer Goods and Services\":\"Restaurants, Travel and Leisure\",\n",
        "                                                  \"Insurance\\nFinancial Services\":\"Financial Services\",\"Manufacturing\\nConstruction & Facilities Services \":\"Construction & Facilities Services\",\"Manufacturing\\nConstruction & Facilities Services\":\"Manufacturing  \",\n",
        "                                                  \"Financial Services\\nInformation Technology \":\"Information Technology\",\"Agriculture and Extraction\\nAgriculture and Extraction\":\"Agriculture and Extraction\",\"Manufacturing\\nEnergy, Mining & Utilities \":\"Manufacturing\",\n",
        "                                                  \"Healthcare\\nNonprofit & NGO\":\"Healthcare\",\"Financial Services\\nInformation Technology\":\"Financial Services\",\"Manufacturing\":\"Manufacturing\",\"Manufacturing\\nEnergy, Mining & Utilities\":\"Manufacturing\",\"Manufacturing\":\"Manufacturing\"\n",
        "\n",
        "                                                \n",
        "                                                 })"
      ],
      "metadata": {
        "id": "HjKTWsJ0fc_Z"
      },
      "execution_count": null,
      "outputs": []
    },
    {
      "cell_type": "code",
      "source": [
        "df_reviews[\"industry\"].value_counts()"
      ],
      "metadata": {
        "id": "4SLMPSEzfu3A"
      },
      "execution_count": null,
      "outputs": []
    },
    {
      "cell_type": "markdown",
      "source": [
        "Micro-sized business: less than 10 employees. Small-sized business: 10-49 employees. Medium business: 50-249 employees. Large-sized business: more than 250 employees"
      ],
      "metadata": {
        "id": "pdfZliBZp7L8"
      }
    },
    {
      "cell_type": "code",
      "source": [
        "df_reviews[\"employees\"].unique()\n",
        "scale_mapper = {\"1\":1, \"2 to 10\":2, \"11 to 50\":3, \"51 to 200\":4,\"201 to 500\":5,\"501 to 1,000\":6,\"1,001 to 5,000\":7, \"5,001 to 10,000\":8, \"10,000+\":9}\n",
        "df_reviews['employees']=df_reviews['employees'].replace(scale_mapper)"
      ],
      "metadata": {
        "id": "gdO-b2rwpDEJ"
      },
      "execution_count": null,
      "outputs": []
    },
    {
      "cell_type": "code",
      "source": [
        "scale_mapper = {\"less than $1M (USD)\":1, \"$1M to $5M (USD)\":2, \"$5M to $25M (USD)\":3, \"$25M to $100M (USD)\":4,\"$100M to $500M (USD)\":5,\"$500M to $1B (USD)\":6,\"$1B to $5B (USD)\":7, \"$5B to $10B (USD)\":8, \"more than $10B (USD)\":9}\n",
        "df_reviews['revenue']=df_reviews['revenue'].replace(scale_mapper)\n"
      ],
      "metadata": {
        "id": "BScgvVEqrPyQ"
      },
      "execution_count": null,
      "outputs": []
    },
    {
      "cell_type": "code",
      "source": [
        "df_reviews['reviews'] = df_reviews['reviews'].str.replace('reviews', '')   \n",
        "df_reviews['reviews'] = df_reviews['reviews'].replace({'K': '*1e3'}, regex=True).map(pd.eval).astype(int) "
      ],
      "metadata": {
        "id": "uUL9neZ8r5Ug"
      },
      "execution_count": null,
      "outputs": []
    },
    {
      "cell_type": "code",
      "source": [
        "df_reviews.head()"
      ],
      "metadata": {
        "id": "lTEyC89krpUZ"
      },
      "execution_count": null,
      "outputs": []
    },
    {
      "cell_type": "markdown",
      "source": [],
      "metadata": {
        "id": "fexrCfyqqPqv"
      }
    },
    {
      "cell_type": "markdown",
      "source": [
        "## Handling with missing values\n"
      ],
      "metadata": {
        "id": "ieXIFCDGbNEz"
      }
    },
    {
      "cell_type": "code",
      "source": [
        "df_reviews.isnull().sum()"
      ],
      "metadata": {
        "id": "gEN_iXbwbSok"
      },
      "execution_count": null,
      "outputs": []
    },
    {
      "cell_type": "code",
      "source": [
        "msno.bar(df_reviews)"
      ],
      "metadata": {
        "id": "kUIVkv2BbYtL"
      },
      "execution_count": null,
      "outputs": []
    },
    {
      "cell_type": "markdown",
      "source": [
        "## Trainig Data"
      ],
      "metadata": {
        "id": "y_5ulhoKbY12"
      }
    },
    {
      "cell_type": "code",
      "source": [],
      "metadata": {
        "id": "G-vDMpXJbdEV"
      },
      "execution_count": null,
      "outputs": []
    },
    {
      "cell_type": "markdown",
      "source": [
        "## Apply ML model"
      ],
      "metadata": {
        "id": "rlRmdHU3bdQx"
      }
    },
    {
      "cell_type": "code",
      "source": [],
      "metadata": {
        "id": "ksXo3zPObit6"
      },
      "execution_count": null,
      "outputs": []
    },
    {
      "cell_type": "markdown",
      "source": [
        "## Result"
      ],
      "metadata": {
        "id": "ikNjy4w6bhuw"
      }
    },
    {
      "cell_type": "markdown",
      "source": [
        "# Data Preparation"
      ],
      "metadata": {
        "id": "HLRBc3XcmtoP"
      }
    },
    {
      "cell_type": "markdown",
      "source": [
        "# Modeling"
      ],
      "metadata": {
        "id": "xZyJM2P0m0Vi"
      }
    },
    {
      "cell_type": "code",
      "source": [],
      "metadata": {
        "id": "7lWEKujpmxdJ"
      },
      "execution_count": null,
      "outputs": []
    },
    {
      "cell_type": "markdown",
      "source": [
        "# Evaluation"
      ],
      "metadata": {
        "id": "8sY_cfbFm58x"
      }
    },
    {
      "cell_type": "markdown",
      "source": [
        "# Deployment"
      ],
      "metadata": {
        "id": "i02WAhWbm-sl"
      }
    },
    {
      "cell_type": "code",
      "source": [],
      "metadata": {
        "id": "FSG4R2Eym9aU"
      },
      "execution_count": null,
      "outputs": []
    },
    {
      "cell_type": "markdown",
      "source": [
        "# Findings/ Conclusion"
      ],
      "metadata": {
        "id": "19RZXfmonB7_"
      }
    },
    {
      "cell_type": "code",
      "source": [],
      "metadata": {
        "id": "1NLuyGsinF5r"
      },
      "execution_count": null,
      "outputs": []
    },
    {
      "cell_type": "markdown",
      "source": [
        "# Reference List"
      ],
      "metadata": {
        "id": "CFNdaKHjnGh7"
      }
    },
    {
      "cell_type": "markdown",
      "source": [
        "Rowntree, D. (2018). Statistics Without Tears : an Introduction for Non-Mathematicians. Penguin Books, Limited.\n",
        "‌"
      ],
      "metadata": {
        "id": "jMQsmuqnqcz2"
      }
    },
    {
      "cell_type": "code",
      "source": [],
      "metadata": {
        "id": "fqvdk_KYqeuq"
      },
      "execution_count": null,
      "outputs": []
    }
  ]
}